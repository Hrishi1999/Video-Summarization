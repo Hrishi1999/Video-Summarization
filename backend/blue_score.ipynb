{
 "metadata": {
  "language_info": {
   "codemirror_mode": {
    "name": "ipython",
    "version": 3
   },
   "file_extension": ".py",
   "mimetype": "text/x-python",
   "name": "python",
   "nbconvert_exporter": "python",
   "pygments_lexer": "ipython3",
   "version": "3.7.6"
  },
  "orig_nbformat": 2,
  "kernelspec": {
   "name": "python37664bitdevcondadcce82d69a5b45ed87a328c63c049a7d",
   "display_name": "Python 3.7.6 64-bit ('dev': conda)"
  },
  "metadata": {
   "interpreter": {
    "hash": "0b1c0c5d6d4cd233e037f1139e2b5d2eb1fe337ed42272ffa4ed68c312149f02"
   }
  }
 },
 "nbformat": 4,
 "nbformat_minor": 2,
 "cells": [
  {
   "cell_type": "code",
   "execution_count": 11,
   "metadata": {},
   "outputs": [
    {
     "output_type": "stream",
     "name": "stdout",
     "text": [
      "Individual 1-gram: 0.777778\nIndividual 2-gram: 0.500000\nIndividual 3-gram: 0.285714\nIndividual 4-gram: 0.189552\n"
     ]
    }
   ],
   "source": [
    "from nltk.translate.bleu_score import sentence_bleu\n",
    "from nltk.translate.bleu_score import SmoothingFunction\n",
    "\n",
    "reference = [\n",
    "    'a man in field'.split(), 'a man walking in a field'.split(), 'a man standing in a grass'.split(), 'a man walking in the field'.split(), 'a man walking in the grass'.split()]\n",
    "candidate = 'a man standing on a horse in the grass'.split()\n",
    "\n",
    "smoothie = SmoothingFunction().method4\n",
    "\n",
    "print('Individual 1-gram: %f' % sentence_bleu(reference, candidate, weights=(1, 0, 0, 0)))\n",
    "print('Individual 2-gram: %f' % sentence_bleu(reference, candidate, weights=(0, 1, 0, 0)))\n",
    "print('Individual 3-gram: %f' % sentence_bleu(reference, candidate, weights=(0, 0, 1, 0)))\n",
    "print('Individual 4-gram: %f' % sentence_bleu(reference, candidate, weights=(0, 0, 0, 1), smoothing_function=smoothie))"
   ]
  },
  {
   "cell_type": "code",
   "execution_count": null,
   "metadata": {},
   "outputs": [],
   "source": []
  },
  {
   "cell_type": "code",
   "execution_count": null,
   "metadata": {},
   "outputs": [],
   "source": []
  }
 ]
}
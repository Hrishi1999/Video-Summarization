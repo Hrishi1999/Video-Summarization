{
 "metadata": {
  "language_info": {
   "codemirror_mode": {
    "name": "ipython",
    "version": 3
   },
   "file_extension": ".py",
   "mimetype": "text/x-python",
   "name": "python",
   "nbconvert_exporter": "python",
   "pygments_lexer": "ipython3",
   "version": "3.7.6-final"
  },
  "orig_nbformat": 2,
  "kernelspec": {
   "name": "python3",
   "display_name": "Python 3.7.6 64-bit ('dev': conda)",
   "metadata": {
    "interpreter": {
     "hash": "0b1c0c5d6d4cd233e037f1139e2b5d2eb1fe337ed42272ffa4ed68c312149f02"
    }
   }
  }
 },
 "nbformat": 4,
 "nbformat_minor": 2,
 "cells": [
  {
   "cell_type": "code",
   "execution_count": 19,
   "metadata": {},
   "outputs": [
    {
     "output_type": "stream",
     "name": "stdout",
     "text": [
      "0.18257418583505533\n"
     ]
    }
   ],
   "source": [
    "import nltk\n",
    "\n",
    "human = \"A surfer is surfing a wave.\"\n",
    "machine = \"surfer wave in a wave. a surfer in the water\"\n",
    "\n",
    "hypothesis = machine.split()\n",
    "human_reference = human.split()\n",
    "\n",
    "#there may be several references\n",
    "BLEUscore = nltk.translate.bleu_score.sentence_bleu([human_reference], hypothesis, weights = (0, 0, 0, 0))\n",
    "print(BLEUscore)"
   ]
  },
  {
   "cell_type": "code",
   "execution_count": null,
   "metadata": {},
   "outputs": [],
   "source": []
  }
 ]
}